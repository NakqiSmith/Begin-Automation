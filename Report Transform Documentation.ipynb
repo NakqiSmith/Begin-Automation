{
 "cells": [
  {
   "cell_type": "markdown",
   "metadata": {},
   "source": [
    "## Dashboard Creation and Automated Reporting Instruction Manual"
   ]
  },
  {
   "cell_type": "markdown",
   "metadata": {},
   "source": [
    "### Required Application Downloads"
   ]
  },
  {
   "cell_type": "markdown",
   "metadata": {},
   "source": [
    "### Grab and Open Files"
   ]
  },
  {
   "cell_type": "markdown",
   "metadata": {},
   "source": [
    "This code below does exactly what I want"
   ]
  },
  {
   "cell_type": "code",
   "execution_count": 24,
   "metadata": {},
   "outputs": [],
   "source": [
    "#Library Importation\n",
    "import openpyxl\n",
    "from openpyxl import load_workbook\n",
    "import pandas as pd\n",
    "import numpy as np\n",
    "\n",
    "#Loading Necessary Workbooks\n",
    "wb1 = load_workbook (\"StaffPerformanceOverviewCR06-23-23 test copy.xlsx\")\n",
    "wb2 = load_workbook(\"StaffPerformanceOverviewNH06-23-23 test copy.xlsx\")\n",
    "ws1 = wb1.active\n",
    "ws2 = wb2.active\n",
    "\n",
    "#Appending Data To One Workbook\n",
    "for row in ws2.iter_rows(min_row=2, values_only=True): \n",
    "    ws1.append(row)\n",
    "\n",
    "wb1.save(\"StaffPerformanceOverviewtest-06-23 test copy.xlsx\")\n",
    "\n",
    "#reload new workbook that was just saved\n",
    "wb = load_workbook(\"StaffPerformanceOverviewtest-06-23 test copy.xlsx\")\n",
    "ws = wb.active\n",
    "\n",
    "#Remove Row to consolidate data\n",
    "start_row = 12\n",
    "num_rows_to_remove = 1\n",
    "ws.delete_rows(start_row, num_rows_to_remove)\n",
    "\n",
    "# Define the column letter you want to update (e.g., column A)\n",
    "column_letter = 'E'\n",
    "\n",
    "# Define the value to be replaced and its corresponding replacement\n",
    "old = \"NA\"\n",
    "new = \"0\"\n",
    "\n",
    "# Get the column index from the column letter\n",
    "column_index = ord(column_letter) - ord('A') + 1\n",
    "\n",
    "# Loop through the cells in the selected column and replace the old value with the new value\n",
    "for row in ws.iter_rows(min_row=3, min_col=column_index, max_col=column_index):\n",
    "    cell = row[0]\n",
    "    if cell.value == old:\n",
    "        cell.value = new\n",
    "\n",
    "from openpyxl.styles import NamedStyle\n",
    "\n",
    "# Create named style for the whole number format\n",
    "whole_number_style = NamedStyle(name=\"whole_number\", number_format=\"0\")\n",
    "\n",
    "# Columns that need to be formatted as a whole number (example: columns A, B, and D)\n",
    "columns_to_format = ['B', 'C', 'D']  # Replace with the letters of the columns you want to format\n",
    "\n",
    "# Apply the named style to each cell in the selected columns\n",
    "for column_letter in columns_to_format:\n",
    "    for cell in ws[column_letter]:\n",
    "        cell.style = whole_number_style\n",
    "\n",
    "Decimal_Number_Style = NamedStyle(name=\"decimal\", number_format=\"#,##0.00\")\n",
    "\n",
    "column_letter = 'E'\n",
    "for cell in ws[column_letter]:\n",
    "    cell.style = Decimal_Number_Style\n",
    "\n",
    "# Create named style for the whole number format\n",
    "currency_style = NamedStyle(name=\"currency\", number_format='\"$\"#,##0.00')\n",
    "\n",
    "# Columns that need to be formatted as a whole number (example: columns A, B, and D)\n",
    "columns_to_format = ['F', 'G', 'H','I','J','K','L','M','N','O']  # Replace with the letters of the columns you want to format\n",
    "\n",
    "# Apply the named style to each cell in the selected columns\n",
    "for column_letter in columns_to_format:\n",
    "    for cell in ws[column_letter]:\n",
    "        cell.style = currency_style\n",
    "\n",
    "wb.save(\"StaffPerformanceOverviewtest-06-23 test copy.xlsx\")"
   ]
  },
  {
   "cell_type": "markdown",
   "metadata": {},
   "source": [
    "This code below does exactly what i want right after the code above"
   ]
  },
  {
   "cell_type": "code",
   "execution_count": 25,
   "metadata": {},
   "outputs": [],
   "source": [
    "import pandas as pd\n",
    "from openpyxl import load_workbook\n",
    "\n",
    "# Load the existing Excel workbook\n",
    "wb = load_workbook(\"StaffPerformanceOverviewtest-06-23 test copy.xlsx\")\n",
    "\n",
    "# Select the worksheet you want to update (assuming it's the first sheet)\n",
    "ws = wb.active\n",
    "\n",
    "# Read the data from the worksheet into a Pandas DataFrame\n",
    "data_range_location1 = ws['A3:D11']  # Assuming data for location 1 is in column A starting from row 2\n",
    "data_location1 = [[cell.value for cell in row] for row in data_range_location1]\n",
    "\n",
    "data_range_location2 = ws['A12:D18']  # Assuming data for location 2 is in column E starting from row 2\n",
    "data_location2 = [[cell.value for cell in row] for row in data_range_location2]\n",
    "\n",
    "# Create separate DataFrames for location 1 and location 2\n",
    "df_location1 = pd.DataFrame(data_location1, columns=['EmployeeID', 'Data1', 'Data2', 'Data3'])\n",
    "df_location2 = pd.DataFrame(data_location2, columns=['EmployeeID', 'Data1', 'Data2', 'Data3'])\n",
    "\n",
    "# Get the union of EmployeeIDs from both data frames\n",
    "all_employee_ids = set(df_location1['EmployeeID']).union(set(df_location2['EmployeeID']))\n",
    "\n",
    "# Create DataFrames with all EmployeeIDs for both locations\n",
    "df_all_location1 = pd.DataFrame({'EmployeeID': list(all_employee_ids)})\n",
    "df_all_location2 = pd.DataFrame({'EmployeeID': list(all_employee_ids)})\n",
    "\n",
    "# Merge the original data with the DataFrames containing all EmployeeIDs (outer merge)\n",
    "merged_location1 = pd.merge(df_all_location1, df_location1, on='EmployeeID', how='left')\n",
    "merged_location2 = pd.merge(df_all_location2, df_location2, on='EmployeeID', how='left')\n",
    "\n",
    "# Fill NaN values with 0\n",
    "merged_location1.fillna(0, inplace=True)\n",
    "merged_location2.fillna(0, inplace=True)\n",
    "\n",
    "# Consolidate data based on EmployeeID and sum the values for each location\n",
    "consolidated_data_location1 = merged_location1.groupby('EmployeeID', as_index=False).sum()\n",
    "consolidated_data_location2 = merged_location2.groupby('EmployeeID', as_index=False).sum()\n",
    "\n",
    "# Merge the consolidated data for employees working at both locations (outer merge)\n",
    "consolidated_data_both_locations = pd.merge(consolidated_data_location1, consolidated_data_location2, on='EmployeeID', suffixes=('_loc1', '_loc2'), how='outer')\n",
    "\n",
    "# Calculate the final values for the Data1, Data2, Data3 columns (sum for all)\n",
    "consolidated_data_both_locations['Data1'] = consolidated_data_both_locations['Data1_loc1'] + consolidated_data_both_locations['Data1_loc2']\n",
    "consolidated_data_both_locations['Data2'] = consolidated_data_both_locations['Data2_loc1'] + consolidated_data_both_locations['Data2_loc2']\n",
    "consolidated_data_both_locations['Data3'] = consolidated_data_both_locations['Data3_loc1'] + consolidated_data_both_locations['Data3_loc2']\n",
    "\n",
    "# Remove the unnecessary columns from the consolidated DataFrame\n",
    "consolidated_data_both_locations.drop(columns=['Data1_loc1', 'Data1_loc2', 'Data2_loc1', 'Data2_loc2', 'Data3_loc1', 'Data3_loc2'], inplace=True)\n",
    "\n",
    "# Convert the consolidated data to a list\n",
    "consolidated_data_list = consolidated_data_both_locations.values.tolist()\n",
    "\n",
    "# Determine the starting row for placing the consolidated data\n",
    "start_row = 20  # Assuming you want to start placing the consolidated data in row 20\n",
    "\n",
    "# Put the consolidated data back into the Excel worksheet\n",
    "for row_index, row_data in enumerate(consolidated_data_list):\n",
    "    for col_index, cell_value in enumerate(row_data):\n",
    "        cell = ws.cell(row=start_row + row_index, column=col_index + 1)\n",
    "        cell.value = cell_value\n",
    "\n",
    "# Save the updated workbook\n",
    "wb.save(\"StaffPerformanceOverviewtest-06-23 test copy.xlsx\")\n"
   ]
  },
  {
   "cell_type": "markdown",
   "metadata": {},
   "source": [
    "***"
   ]
  },
  {
   "cell_type": "markdown",
   "metadata": {},
   "source": [
    "\n",
    "***"
   ]
  },
  {
   "cell_type": "markdown",
   "metadata": {},
   "source": [
    "***"
   ]
  },
  {
   "cell_type": "markdown",
   "metadata": {},
   "source": [
    "***"
   ]
  }
 ],
 "metadata": {
  "kernelspec": {
   "display_name": "Reportwflow",
   "language": "python",
   "name": "python3"
  },
  "language_info": {
   "codemirror_mode": {
    "name": "ipython",
    "version": 3
   },
   "file_extension": ".py",
   "mimetype": "text/x-python",
   "name": "python",
   "nbconvert_exporter": "python",
   "pygments_lexer": "ipython3",
   "version": "3.11.3"
  },
  "orig_nbformat": 4
 },
 "nbformat": 4,
 "nbformat_minor": 2
}
