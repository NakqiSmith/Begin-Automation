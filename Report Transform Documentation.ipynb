{
 "cells": [
  {
   "cell_type": "markdown",
   "metadata": {},
   "source": [
    "## Dashboard Creation and Automated Reporting Instruction Manual"
   ]
  },
  {
   "cell_type": "markdown",
   "metadata": {},
   "source": [
    "### Required Application Downloads"
   ]
  },
  {
   "cell_type": "markdown",
   "metadata": {},
   "source": [
    "### Grab and Open Files"
   ]
  },
  {
   "cell_type": "code",
   "execution_count": 79,
   "metadata": {},
   "outputs": [],
   "source": [
    "#Library Importation\n",
    "import openpyxl\n",
    "from openpyxl import load_workbook\n",
    "import pandas as pd\n",
    "import numpy as np\n",
    "\n",
    "#Loading Necessary Workbooks\n",
    "wb1 = load_workbook (\"StaffPerformanceOverviewCR06-23-23 test copy.xlsx\")\n",
    "wb2 = load_workbook(\"StaffPerformanceOverviewNH06-23-23 test copy.xlsx\")\n",
    "ws1 = wb1.active\n",
    "ws2 = wb2.active\n",
    "\n",
    "#Appending Data To One Workbook\n",
    "for row in ws2.iter_rows(min_row=2, values_only=True): \n",
    "    ws1.append(row)\n",
    "\n",
    "wb1.save(\"StaffPerformanceOverviewtest-06-23 test copy.xlsx\")\n",
    "\n",
    "#reload new workbook that was just saved\n",
    "wb = load_workbook(\"StaffPerformanceOverviewtest-06-23 test copy.xlsx\")\n",
    "ws = wb.active\n",
    "\n",
    "#Remove Row to consolidate data\n",
    "start_row = 12\n",
    "num_rows_to_remove = 1\n",
    "ws.delete_rows(start_row, num_rows_to_remove)\n",
    "\n",
    "# Define the column letter you want to update (e.g., column A)\n",
    "column_letter = 'E'\n",
    "\n",
    "# Define the value to be replaced and its corresponding replacement\n",
    "old = \"NA\"\n",
    "new = \"0\"\n",
    "\n",
    "# Get the column index from the column letter\n",
    "column_index = ord(column_letter) - ord('A') + 1\n",
    "\n",
    "# Loop through the cells in the selected column and replace the old value with the new value\n",
    "for row in ws.iter_rows(min_row=3, min_col=column_index, max_col=column_index):\n",
    "    cell = row[0]\n",
    "    if cell.value == old:\n",
    "        cell.value = new\n",
    "\n",
    "from openpyxl.styles import NamedStyle\n",
    "\n",
    "# Create named style for the whole number format\n",
    "whole_number_style = NamedStyle(name=\"whole_number\", number_format=\"0\")\n",
    "\n",
    "# Columns that need to be formatted as a whole number (example: columns A, B, and D)\n",
    "columns_to_format = ['B', 'C', 'D']  # Replace with the letters of the columns you want to format\n",
    "\n",
    "# Apply the named style to each cell in the selected columns\n",
    "for column_letter in columns_to_format:\n",
    "    for cell in ws[column_letter]:\n",
    "        cell.style = whole_number_style\n",
    "\n",
    "Decimal_Number_Style = NamedStyle(name=\"decimal\", number_format=\"#,##0.00\")\n",
    "\n",
    "column_letter = 'E'\n",
    "for cell in ws[column_letter]:\n",
    "    cell.style = Decimal_Number_Style\n",
    "\n",
    "# Create named style for the whole number format\n",
    "currency_style = NamedStyle(name=\"currency\", number_format='\"$\"#,##0.00')\n",
    "\n",
    "# Columns that need to be formatted as a whole number (example: columns A, B, and D)\n",
    "columns_to_format = ['F', 'G', 'H','I','J','K','L','M','N','O']  # Replace with the letters of the columns you want to format\n",
    "\n",
    "# Apply the named style to each cell in the selected columns\n",
    "for column_letter in columns_to_format:\n",
    "    for cell in ws[column_letter]:\n",
    "        cell.style = currency_style\n",
    "\n",
    "wb.save(\"StaffPerformanceOverviewtest-06-23 test copy.xlsx\")"
   ]
  }
 ],
 "metadata": {
  "kernelspec": {
   "display_name": "Reportwflow",
   "language": "python",
   "name": "python3"
  },
  "language_info": {
   "codemirror_mode": {
    "name": "ipython",
    "version": 3
   },
   "file_extension": ".py",
   "mimetype": "text/x-python",
   "name": "python",
   "nbconvert_exporter": "python",
   "pygments_lexer": "ipython3",
   "version": "3.11.3"
  },
  "orig_nbformat": 4
 },
 "nbformat": 4,
 "nbformat_minor": 2
}
